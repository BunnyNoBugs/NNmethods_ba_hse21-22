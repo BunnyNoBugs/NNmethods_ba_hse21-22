{
 "cells": [
  {
   "cell_type": "markdown",
   "metadata": {},
   "source": [
    "# ДЗ 1\n",
    "## Классический МЛ в NLP, вспомнить все!"
   ]
  },
  {
   "cell_type": "markdown",
   "metadata": {
    "tags": []
   },
   "source": [
    "В этом ДЗ будем работать с датасетом Men_Women_Shoes_Reviews ttps://www.kaggle.com/daishinkan002/men-women-shoes-reviews \n",
    " \n",
    "\n",
    "### **Задание 1**. \n",
    "Предсказать цену по описанию товара (для каждого товара)\n",
    "### **Задание 2.** \n",
    "Предсказать оценку товара пользователем по его отзыву (для каждого отзыва)\n",
    "\n",
    "## *Что нужно сделать в каждом задании:* \n",
    "1) проанализировать данные (все, на что хватит вашей фантазии, хороший анализ включает в себя графики и статистические инструменты анализа, можно приходить с вопросами \"какой инструмент поможет мне проверить такую-то гипотезу/хочу посмотреть вот это вот, как это сделать\", предварительно не стесняйтесь гуглить) **1 балл**\n",
    "\n",
    "2) подготовить данные (стемминг, лемматизация, убрать мусор и стоп-слова, нормализовать... все, что покажется вам разумным относительно данных, но вы должны кратко (комментарием к этому блоку кода в тетрадке) объяснить почему вы сделали именно такой препроцессинг. Хороший препроцессинг - разумный, в данном случае чем больше тем не всегда лучше) **1 балла**\n",
    "\n",
    "3) векторизовать тексты (контекстуальные эммбединги пока что не берем, только BoW и TF-IDF) **0.5 балл**\n",
    "\n",
    "4) сделать гридсерч по нескольким моделям (у нас 2 задания, классификация и регрессия), подобрать гиперпараметры, выбрать лучшую модель, рассказать, почему, на ваш взгляд,лучший результат показал лучший алгоритм **1 балл**\n",
    "\n",
    "5) оценить и проанализировать качество лучших решений для каждой задачи (рассказать с чем ваша модель справляется хорошо, а где у нее \"слабые места\", можно ли как-то улучшить ваши результаты. Хороший анализ сопровождается графиками) **1,5 балла** \n",
    "\n",
    "Максимальная сумма баллов при выполнении 5 пунктов в 2 заданиях - 10\n",
    "\n",
    "В тетрадке с первого занятия много дополнительной информации, которая может вам помочь, но все равно не стесняйтесь приходить с вопросами в чат курса. "
   ]
  },
  {
   "cell_type": "code",
   "execution_count": 1,
   "metadata": {},
   "outputs": [],
   "source": [
    "import pandas as pd\n",
    "import numpy as np\n",
    "import matplotlib.pyplot as plt\n",
    "from scipy.sparse import hstack\n",
    "from sklearn.feature_extraction.text import TfidfVectorizer\n",
    "from sklearn.model_selection import train_test_split, GridSearchCV\n",
    "from sklearn.linear_model import LinearRegression, Ridge, Lasso, LogisticRegression\n",
    "from sklearn.svm import SVC\n",
    "from sklearn.metrics import mean_absolute_error, confusion_matrix, ConfusionMatrixDisplay\n",
    "from sklearn.pipeline import Pipeline\n",
    "from sklearn.ensemble import RandomForestRegressor, RandomForestClassifier\n",
    "from sklearn.metrics import classification_report\n",
    "import seaborn as sns\n",
    "import spacy\n",
    "nlp = spacy.load('en_core_web_md', disable=['ner', 'parser'])"
   ]
  },
  {
   "cell_type": "code",
   "execution_count": 2,
   "metadata": {},
   "outputs": [
    {
     "data": {
      "text/html": [
       "<div>\n",
       "<style scoped>\n",
       "    .dataframe tbody tr th:only-of-type {\n",
       "        vertical-align: middle;\n",
       "    }\n",
       "\n",
       "    .dataframe tbody tr th {\n",
       "        vertical-align: top;\n",
       "    }\n",
       "\n",
       "    .dataframe thead th {\n",
       "        text-align: right;\n",
       "    }\n",
       "</style>\n",
       "<table border=\"1\" class=\"dataframe\">\n",
       "  <thead>\n",
       "    <tr style=\"text-align: right;\">\n",
       "      <th></th>\n",
       "      <th>title</th>\n",
       "      <th>price</th>\n",
       "      <th>rating</th>\n",
       "      <th>total_reviews</th>\n",
       "      <th>product_description</th>\n",
       "      <th>reviews</th>\n",
       "      <th>reviews_rating</th>\n",
       "      <th>Shoe Type</th>\n",
       "    </tr>\n",
       "  </thead>\n",
       "  <tbody>\n",
       "    <tr>\n",
       "      <th>0</th>\n",
       "      <td>CLYMB Outdoor Sports Running Shoes for Mens Boy</td>\n",
       "      <td>₹279.00</td>\n",
       "      <td>2.9 out of 5 stars</td>\n",
       "      <td>2389 ratings</td>\n",
       "      <td>Elevate your style with this classy pair of Ru...</td>\n",
       "      <td>Not happy with product|| It's not as expected....</td>\n",
       "      <td>1.0 out of 5 stars|| 1.0 out of 5 stars|| 3.0 ...</td>\n",
       "      <td>Men</td>\n",
       "    </tr>\n",
       "    <tr>\n",
       "      <th>1</th>\n",
       "      <td>Bourge Men's Loire-z126 Running Shoes</td>\n",
       "      <td>₹479.00</td>\n",
       "      <td>3.9 out of 5 stars</td>\n",
       "      <td>11520 ratings</td>\n",
       "      <td>The product will be an excellent pick for you....</td>\n",
       "      <td>Memory cushioning in these shoes is the best f...</td>\n",
       "      <td>5.0 out of 5 stars|| 1.0 out of 5 stars|| 5.0 ...</td>\n",
       "      <td>Men</td>\n",
       "    </tr>\n",
       "    <tr>\n",
       "      <th>2</th>\n",
       "      <td>T-Rock Men's Sneaker</td>\n",
       "      <td>₹430.00</td>\n",
       "      <td>3.3 out of 5 stars</td>\n",
       "      <td>1251 ratings</td>\n",
       "      <td>Flaunt with these stylish and unique red casua...</td>\n",
       "      <td>Worth to its amount|| Go for it|| Perfect|| 5 ...</td>\n",
       "      <td>5.0 out of 5 stars|| 5.0 out of 5 stars|| 5.0 ...</td>\n",
       "      <td>Men</td>\n",
       "    </tr>\n",
       "    <tr>\n",
       "      <th>3</th>\n",
       "      <td>Robbie jones Sneakers Casual Canvas Fabric Col...</td>\n",
       "      <td>₹499.00</td>\n",
       "      <td>4.2 out of 5 stars</td>\n",
       "      <td>3 ratings</td>\n",
       "      <td>Robbie Jones Shoes Are Designed To Keeping In ...</td>\n",
       "      <td>Sup quality|| Good but not expected|| Awesome 👌.!</td>\n",
       "      <td>5.0 out of 5 stars|| 3.0 out of 5 stars|| 5.0 ...</td>\n",
       "      <td>Men</td>\n",
       "    </tr>\n",
       "    <tr>\n",
       "      <th>4</th>\n",
       "      <td>Sparx Men's Sd0323g Sneakers</td>\n",
       "      <td>₹499.00</td>\n",
       "      <td>4.2 out of 5 stars</td>\n",
       "      <td>20110 ratings</td>\n",
       "      <td>Sparx is a spectacular range of footwear from ...</td>\n",
       "      <td>Best|| Satisfied!|| Affordable beauty 😘😘😘😘 the...</td>\n",
       "      <td>5.0 out of 5 stars|| 5.0 out of 5 stars|| 5.0 ...</td>\n",
       "      <td>Men</td>\n",
       "    </tr>\n",
       "    <tr>\n",
       "      <th>...</th>\n",
       "      <td>...</td>\n",
       "      <td>...</td>\n",
       "      <td>...</td>\n",
       "      <td>...</td>\n",
       "      <td>...</td>\n",
       "      <td>...</td>\n",
       "      <td>...</td>\n",
       "      <td>...</td>\n",
       "    </tr>\n",
       "    <tr>\n",
       "      <th>1225</th>\n",
       "      <td>Nike Men's React Vision Running Shoes</td>\n",
       "      <td>₹7256.00</td>\n",
       "      <td>4.4 out of 5 stars</td>\n",
       "      <td>200 ratings</td>\n",
       "      <td>The Nike react vision is a STORY of surreal co...</td>\n",
       "      <td>Must buy|| not have a great fiting but great q...</td>\n",
       "      <td>5.0 out of 5 stars|| 3.0 out of 5 stars|| 5.0 ...</td>\n",
       "      <td>Women</td>\n",
       "    </tr>\n",
       "    <tr>\n",
       "      <th>1226</th>\n",
       "      <td>Puma Men's B.O.G Limitless Hi Evoknit Sneakers</td>\n",
       "      <td>₹5822.00</td>\n",
       "      <td>4.3 out of 5 stars</td>\n",
       "      <td>25 ratings</td>\n",
       "      <td>The B.O.G limitless is Puma's key style for th...</td>\n",
       "      <td>Worth buying !|| Classy Bold and Stylish !!|| ...</td>\n",
       "      <td>4.0 out of 5 stars|| 5.0 out of 5 stars|| 3.0 ...</td>\n",
       "      <td>Women</td>\n",
       "    </tr>\n",
       "    <tr>\n",
       "      <th>1227</th>\n",
       "      <td>new balance Women's FuelCell Echolucent Runnin...</td>\n",
       "      <td>₹5362.00</td>\n",
       "      <td>4.5 out of 5 stars</td>\n",
       "      <td>817 ratings</td>\n",
       "      <td>Lead the pack in New Balance’s Echolucent snea...</td>\n",
       "      <td>size variation in product recd n size chart|| ...</td>\n",
       "      <td>5.0 out of 5 stars|| 5.0 out of 5 stars|| 5.0 ...</td>\n",
       "      <td>Women</td>\n",
       "    </tr>\n",
       "    <tr>\n",
       "      <th>1228</th>\n",
       "      <td>Nike Women's WMNS Air Zoom Pegasus 37 Running ...</td>\n",
       "      <td>₹7480.00</td>\n",
       "      <td>4.5 out of 5 stars</td>\n",
       "      <td>67 ratings</td>\n",
       "      <td>Nike మహిళల రన్నింగ్ షూ ఫీల్స్ మరియు రూపం మృదువ...</td>\n",
       "      <td>Verified Purchase|| Verified Purchase|| Verifi...</td>\n",
       "      <td>5.0 out of 5 stars|| 5.0 out of 5 stars|| 4.0 ...</td>\n",
       "      <td>Women</td>\n",
       "    </tr>\n",
       "    <tr>\n",
       "      <th>1229</th>\n",
       "      <td>ASICS Women Gt-2000 7 Lite-Show Running Shoes</td>\n",
       "      <td>₹5719.00</td>\n",
       "      <td>4.1 out of 5 stars</td>\n",
       "      <td>210 ratings</td>\n",
       "      <td>The GT-2000 7 achieves a reassuringly firm rid...</td>\n",
       "      <td>Great shoe|| excellent quality|| Old manufactu...</td>\n",
       "      <td>5.0 out of 5 stars|| 5.0 out of 5 stars|| 3.0 ...</td>\n",
       "      <td>Women</td>\n",
       "    </tr>\n",
       "  </tbody>\n",
       "</table>\n",
       "<p>1230 rows × 8 columns</p>\n",
       "</div>"
      ],
      "text/plain": [
       "                                                  title     price  \\\n",
       "0       CLYMB Outdoor Sports Running Shoes for Mens Boy   ₹279.00   \n",
       "1                 Bourge Men's Loire-z126 Running Shoes   ₹479.00   \n",
       "2                                  T-Rock Men's Sneaker   ₹430.00   \n",
       "3     Robbie jones Sneakers Casual Canvas Fabric Col...   ₹499.00   \n",
       "4                          Sparx Men's Sd0323g Sneakers   ₹499.00   \n",
       "...                                                 ...       ...   \n",
       "1225              Nike Men's React Vision Running Shoes  ₹7256.00   \n",
       "1226     Puma Men's B.O.G Limitless Hi Evoknit Sneakers  ₹5822.00   \n",
       "1227  new balance Women's FuelCell Echolucent Runnin...  ₹5362.00   \n",
       "1228  Nike Women's WMNS Air Zoom Pegasus 37 Running ...  ₹7480.00   \n",
       "1229      ASICS Women Gt-2000 7 Lite-Show Running Shoes  ₹5719.00   \n",
       "\n",
       "                  rating  total_reviews  \\\n",
       "0     2.9 out of 5 stars   2389 ratings   \n",
       "1     3.9 out of 5 stars  11520 ratings   \n",
       "2     3.3 out of 5 stars   1251 ratings   \n",
       "3     4.2 out of 5 stars      3 ratings   \n",
       "4     4.2 out of 5 stars  20110 ratings   \n",
       "...                  ...            ...   \n",
       "1225  4.4 out of 5 stars    200 ratings   \n",
       "1226  4.3 out of 5 stars     25 ratings   \n",
       "1227  4.5 out of 5 stars    817 ratings   \n",
       "1228  4.5 out of 5 stars     67 ratings   \n",
       "1229  4.1 out of 5 stars    210 ratings   \n",
       "\n",
       "                                    product_description  \\\n",
       "0     Elevate your style with this classy pair of Ru...   \n",
       "1     The product will be an excellent pick for you....   \n",
       "2     Flaunt with these stylish and unique red casua...   \n",
       "3     Robbie Jones Shoes Are Designed To Keeping In ...   \n",
       "4     Sparx is a spectacular range of footwear from ...   \n",
       "...                                                 ...   \n",
       "1225  The Nike react vision is a STORY of surreal co...   \n",
       "1226  The B.O.G limitless is Puma's key style for th...   \n",
       "1227  Lead the pack in New Balance’s Echolucent snea...   \n",
       "1228  Nike మహిళల రన్నింగ్ షూ ఫీల్స్ మరియు రూపం మృదువ...   \n",
       "1229  The GT-2000 7 achieves a reassuringly firm rid...   \n",
       "\n",
       "                                                reviews  \\\n",
       "0     Not happy with product|| It's not as expected....   \n",
       "1     Memory cushioning in these shoes is the best f...   \n",
       "2     Worth to its amount|| Go for it|| Perfect|| 5 ...   \n",
       "3     Sup quality|| Good but not expected|| Awesome 👌.!   \n",
       "4     Best|| Satisfied!|| Affordable beauty 😘😘😘😘 the...   \n",
       "...                                                 ...   \n",
       "1225  Must buy|| not have a great fiting but great q...   \n",
       "1226  Worth buying !|| Classy Bold and Stylish !!|| ...   \n",
       "1227  size variation in product recd n size chart|| ...   \n",
       "1228  Verified Purchase|| Verified Purchase|| Verifi...   \n",
       "1229  Great shoe|| excellent quality|| Old manufactu...   \n",
       "\n",
       "                                         reviews_rating Shoe Type  \n",
       "0     1.0 out of 5 stars|| 1.0 out of 5 stars|| 3.0 ...       Men  \n",
       "1     5.0 out of 5 stars|| 1.0 out of 5 stars|| 5.0 ...       Men  \n",
       "2     5.0 out of 5 stars|| 5.0 out of 5 stars|| 5.0 ...       Men  \n",
       "3     5.0 out of 5 stars|| 3.0 out of 5 stars|| 5.0 ...       Men  \n",
       "4     5.0 out of 5 stars|| 5.0 out of 5 stars|| 5.0 ...       Men  \n",
       "...                                                 ...       ...  \n",
       "1225  5.0 out of 5 stars|| 3.0 out of 5 stars|| 5.0 ...     Women  \n",
       "1226  4.0 out of 5 stars|| 5.0 out of 5 stars|| 3.0 ...     Women  \n",
       "1227  5.0 out of 5 stars|| 5.0 out of 5 stars|| 5.0 ...     Women  \n",
       "1228  5.0 out of 5 stars|| 5.0 out of 5 stars|| 4.0 ...     Women  \n",
       "1229  5.0 out of 5 stars|| 5.0 out of 5 stars|| 3.0 ...     Women  \n",
       "\n",
       "[1230 rows x 8 columns]"
      ]
     },
     "execution_count": 2,
     "metadata": {},
     "output_type": "execute_result"
    }
   ],
   "source": [
    "df = pd.read_csv('Shoes_Data.csv')\n",
    "df"
   ]
  },
  {
   "cell_type": "markdown",
   "metadata": {},
   "source": [
    "### Задание 1"
   ]
  },
  {
   "cell_type": "code",
   "execution_count": 3,
   "metadata": {},
   "outputs": [
    {
     "data": {
      "text/html": [
       "<div>\n",
       "<style scoped>\n",
       "    .dataframe tbody tr th:only-of-type {\n",
       "        vertical-align: middle;\n",
       "    }\n",
       "\n",
       "    .dataframe tbody tr th {\n",
       "        vertical-align: top;\n",
       "    }\n",
       "\n",
       "    .dataframe thead th {\n",
       "        text-align: right;\n",
       "    }\n",
       "</style>\n",
       "<table border=\"1\" class=\"dataframe\">\n",
       "  <thead>\n",
       "    <tr style=\"text-align: right;\">\n",
       "      <th></th>\n",
       "      <th>title</th>\n",
       "      <th>price</th>\n",
       "      <th>rating</th>\n",
       "      <th>total_reviews</th>\n",
       "      <th>product_description</th>\n",
       "      <th>reviews</th>\n",
       "      <th>reviews_rating</th>\n",
       "      <th>Shoe Type</th>\n",
       "      <th>n_symbols_descr</th>\n",
       "      <th>n_letters_descr</th>\n",
       "      <th>n_words_descr</th>\n",
       "      <th>mean_word_length_descr</th>\n",
       "      <th>n_upper_descr</th>\n",
       "    </tr>\n",
       "  </thead>\n",
       "  <tbody>\n",
       "    <tr>\n",
       "      <th>0</th>\n",
       "      <td>CLYMB Outdoor Sports Running Shoes for Mens Boy</td>\n",
       "      <td>279.0</td>\n",
       "      <td>2.9 out of 5 stars</td>\n",
       "      <td>2389 ratings</td>\n",
       "      <td>Elevate your style with this classy pair of Ru...</td>\n",
       "      <td>Not happy with product|| It's not as expected....</td>\n",
       "      <td>1.0 out of 5 stars|| 1.0 out of 5 stars|| 3.0 ...</td>\n",
       "      <td>Men</td>\n",
       "      <td>222</td>\n",
       "      <td>188</td>\n",
       "      <td>35</td>\n",
       "      <td>5.371429</td>\n",
       "      <td>9</td>\n",
       "    </tr>\n",
       "    <tr>\n",
       "      <th>1</th>\n",
       "      <td>Bourge Men's Loire-z126 Running Shoes</td>\n",
       "      <td>479.0</td>\n",
       "      <td>3.9 out of 5 stars</td>\n",
       "      <td>11520 ratings</td>\n",
       "      <td>The product will be an excellent pick for you....</td>\n",
       "      <td>Memory cushioning in these shoes is the best f...</td>\n",
       "      <td>5.0 out of 5 stars|| 1.0 out of 5 stars|| 5.0 ...</td>\n",
       "      <td>Men</td>\n",
       "      <td>78</td>\n",
       "      <td>65</td>\n",
       "      <td>14</td>\n",
       "      <td>4.642857</td>\n",
       "      <td>2</td>\n",
       "    </tr>\n",
       "    <tr>\n",
       "      <th>2</th>\n",
       "      <td>T-Rock Men's Sneaker</td>\n",
       "      <td>430.0</td>\n",
       "      <td>3.3 out of 5 stars</td>\n",
       "      <td>1251 ratings</td>\n",
       "      <td>Flaunt with these stylish and unique red casua...</td>\n",
       "      <td>Worth to its amount|| Go for it|| Perfect|| 5 ...</td>\n",
       "      <td>5.0 out of 5 stars|| 5.0 out of 5 stars|| 5.0 ...</td>\n",
       "      <td>Men</td>\n",
       "      <td>398</td>\n",
       "      <td>328</td>\n",
       "      <td>71</td>\n",
       "      <td>4.619718</td>\n",
       "      <td>7</td>\n",
       "    </tr>\n",
       "    <tr>\n",
       "      <th>3</th>\n",
       "      <td>Robbie jones Sneakers Casual Canvas Fabric Col...</td>\n",
       "      <td>499.0</td>\n",
       "      <td>4.2 out of 5 stars</td>\n",
       "      <td>3 ratings</td>\n",
       "      <td>Robbie Jones Shoes Are Designed To Keeping In ...</td>\n",
       "      <td>Sup quality|| Good but not expected|| Awesome 👌.!</td>\n",
       "      <td>5.0 out of 5 stars|| 3.0 out of 5 stars|| 5.0 ...</td>\n",
       "      <td>Men</td>\n",
       "      <td>576</td>\n",
       "      <td>477</td>\n",
       "      <td>100</td>\n",
       "      <td>4.770000</td>\n",
       "      <td>100</td>\n",
       "    </tr>\n",
       "    <tr>\n",
       "      <th>4</th>\n",
       "      <td>Sparx Men's Sd0323g Sneakers</td>\n",
       "      <td>499.0</td>\n",
       "      <td>4.2 out of 5 stars</td>\n",
       "      <td>20110 ratings</td>\n",
       "      <td>Sparx is a spectacular range of footwear from ...</td>\n",
       "      <td>Best|| Satisfied!|| Affordable beauty 😘😘😘😘 the...</td>\n",
       "      <td>5.0 out of 5 stars|| 5.0 out of 5 stars|| 5.0 ...</td>\n",
       "      <td>Men</td>\n",
       "      <td>1030</td>\n",
       "      <td>858</td>\n",
       "      <td>173</td>\n",
       "      <td>4.959538</td>\n",
       "      <td>18</td>\n",
       "    </tr>\n",
       "  </tbody>\n",
       "</table>\n",
       "</div>"
      ],
      "text/plain": [
       "                                               title  price  \\\n",
       "0    CLYMB Outdoor Sports Running Shoes for Mens Boy  279.0   \n",
       "1              Bourge Men's Loire-z126 Running Shoes  479.0   \n",
       "2                               T-Rock Men's Sneaker  430.0   \n",
       "3  Robbie jones Sneakers Casual Canvas Fabric Col...  499.0   \n",
       "4                       Sparx Men's Sd0323g Sneakers  499.0   \n",
       "\n",
       "               rating  total_reviews  \\\n",
       "0  2.9 out of 5 stars   2389 ratings   \n",
       "1  3.9 out of 5 stars  11520 ratings   \n",
       "2  3.3 out of 5 stars   1251 ratings   \n",
       "3  4.2 out of 5 stars      3 ratings   \n",
       "4  4.2 out of 5 stars  20110 ratings   \n",
       "\n",
       "                                 product_description  \\\n",
       "0  Elevate your style with this classy pair of Ru...   \n",
       "1  The product will be an excellent pick for you....   \n",
       "2  Flaunt with these stylish and unique red casua...   \n",
       "3  Robbie Jones Shoes Are Designed To Keeping In ...   \n",
       "4  Sparx is a spectacular range of footwear from ...   \n",
       "\n",
       "                                             reviews  \\\n",
       "0  Not happy with product|| It's not as expected....   \n",
       "1  Memory cushioning in these shoes is the best f...   \n",
       "2  Worth to its amount|| Go for it|| Perfect|| 5 ...   \n",
       "3  Sup quality|| Good but not expected|| Awesome 👌.!   \n",
       "4  Best|| Satisfied!|| Affordable beauty 😘😘😘😘 the...   \n",
       "\n",
       "                                      reviews_rating Shoe Type  \\\n",
       "0  1.0 out of 5 stars|| 1.0 out of 5 stars|| 3.0 ...       Men   \n",
       "1  5.0 out of 5 stars|| 1.0 out of 5 stars|| 5.0 ...       Men   \n",
       "2  5.0 out of 5 stars|| 5.0 out of 5 stars|| 5.0 ...       Men   \n",
       "3  5.0 out of 5 stars|| 3.0 out of 5 stars|| 5.0 ...       Men   \n",
       "4  5.0 out of 5 stars|| 5.0 out of 5 stars|| 5.0 ...       Men   \n",
       "\n",
       "   n_symbols_descr  n_letters_descr  n_words_descr  mean_word_length_descr  \\\n",
       "0              222              188             35                5.371429   \n",
       "1               78               65             14                4.642857   \n",
       "2              398              328             71                4.619718   \n",
       "3              576              477            100                4.770000   \n",
       "4             1030              858            173                4.959538   \n",
       "\n",
       "   n_upper_descr  \n",
       "0              9  \n",
       "1              2  \n",
       "2              7  \n",
       "3            100  \n",
       "4             18  "
      ]
     },
     "execution_count": 3,
     "metadata": {},
     "output_type": "execute_result"
    }
   ],
   "source": [
    "df['price'] = df['price'].apply(lambda x: float(x[1:]))\n",
    "df['n_symbols_descr'] = df['product_description'].apply(len)\n",
    "df['n_letters_descr'] = df['product_description'].apply(lambda x: len(x.replace(' ', '')))\n",
    "df['n_words_descr'] = df['product_description'].apply(lambda x: len(x.split(' ')))\n",
    "df['mean_word_length_descr'] = df['n_letters_descr'] / df['n_words_descr']\n",
    "df['n_upper_descr'] = df['product_description'].apply(lambda x: len([a for a in x if a.isupper()]))\n",
    "df.head()"
   ]
  },
  {
   "cell_type": "markdown",
   "metadata": {},
   "source": [
    "Посмтотрим на зависимость цены от примитивных количественных свойств описания:"
   ]
  },
  {
   "cell_type": "code",
   "execution_count": 192,
   "metadata": {},
   "outputs": [
    {
     "data": {
      "image/png": "[encoded data removed]",
      "text/plain": [
       "<Figure size 432x288 with 1 Axes>"
      ]
     },
     "metadata": {
      "needs_background": "light"
     },
     "output_type": "display_data"
    },
    {
     "data": {
      "image/png": "[encoded data removed]",
      "text/plain": [
       "<Figure size 432x288 with 1 Axes>"
      ]
     },
     "metadata": {
      "needs_background": "light"
     },
     "output_type": "display_data"
    },
    {
     "data": {
      "image/png": "[encoded data removed]",
      "text/plain": [
       "<Figure size 432x288 with 1 Axes>"
      ]
     },
     "metadata": {
      "needs_background": "light"
     },
     "output_type": "display_data"
    },
    {
     "data": {
      "image/png": "[encoded data removed]",
      "text/plain": [
       "<Figure size 432x288 with 1 Axes>"
      ]
     },
     "metadata": {
      "needs_background": "light"
     },
     "output_type": "display_data"
    }
   ],
   "source": [
    "for i in ['n_symbols_descr', 'n_words_descr', 'mean_word_length_descr', 'n_upper_descr']:\n",
    "    sns.regplot(x=i, y='price', data=df)\n",
    "    plt.show()"
   ]
  },
  {
   "cell_type": "markdown",
   "metadata": {},
   "source": [
    "Посмотрим на распределение цен.\n",
    "\n",
    "Видно, что бОльшая часть товаров находится в ценовом диапазоне до 3000."
   ]
  },
  {
   "cell_type": "code",
   "execution_count": 223,
   "metadata": {},
   "outputs": [
    {
     "data": {
      "text/plain": [
       "<AxesSubplot:>"
      ]
     },
     "execution_count": 223,
     "metadata": {},
     "output_type": "execute_result"
    },
    {
     "data": {
      "image/png": "[encoded data removed]",
      "text/plain": [
       "<Figure size 432x288 with 1 Axes>"
      ]
     },
     "metadata": {
      "needs_background": "light"
     },
     "output_type": "display_data"
    }
   ],
   "source": [
    "df['price'].hist(bins=100)"
   ]
  },
  {
   "cell_type": "markdown",
   "metadata": {},
   "source": [
    "Сделаем препроцессинг: лемматизируем слова, уберем пунктуцию, но не будем убирать цифры, так как они могут обозначать название модели."
   ]
  },
  {
   "cell_type": "code",
   "execution_count": 193,
   "metadata": {},
   "outputs": [],
   "source": [
    "def preprocess_text(text):\n",
    "    doc = nlp(text)\n",
    "    lemmata = [token.lemma_ for token in doc if token.pos_ not in ('PRON', 'PUNCT')]\n",
    "\n",
    "    return ' '.join(lemmata)"
   ]
  },
  {
   "cell_type": "code",
   "execution_count": 194,
   "metadata": {},
   "outputs": [
    {
     "name": "stdout",
     "output_type": "stream",
     "text": [
      "Wall time: 6.46 s\n"
     ]
    }
   ],
   "source": [
    "%%time\n",
    "\n",
    "df['product_description'] = df['product_description'].apply(preprocess_text)"
   ]
  },
  {
   "cell_type": "code",
   "execution_count": 92,
   "metadata": {},
   "outputs": [],
   "source": [
    "X_train, X_test, y_train, y_test = train_test_split(df['product_description'], df['price'], random_state=42)"
   ]
  },
  {
   "cell_type": "code",
   "execution_count": 143,
   "metadata": {},
   "outputs": [
    {
     "name": "stdout",
     "output_type": "stream",
     "text": [
      "Pipeline(steps=[('vect',\n",
      "                 TfidfVectorizer(max_df=0.6, ngram_range=(1, 2),\n",
      "                                 stop_words='english')),\n",
      "                ('regr', LinearRegression())])\n",
      "Wall time: 29 s\n"
     ]
    },
    {
     "data": {
      "text/plain": [
       "679.2136007458329"
      ]
     },
     "execution_count": 143,
     "metadata": {},
     "output_type": "execute_result"
    }
   ],
   "source": [
    "%%time\n",
    "\n",
    "vect = TfidfVectorizer(stop_words='english')\n",
    "lr = LinearRegression()\n",
    "\n",
    "pipe = Pipeline([('vect', vect), ('regr', lr)])\n",
    "param_grid = {\n",
    "    'vect__max_df': np.linspace(0.1, 1, 10),\n",
    "    'vect__min_df': np.linspace(0.1, 1, 10).tolist() + [1],\n",
    "    'vect__ngram_range': [(1, 1), (1, 2), (1, 3), (2, 2)]\n",
    "}\n",
    "search = GridSearchCV(pipe, param_grid, n_jobs=-1)\n",
    "search.fit(X_train, y_train)\n",
    "print(search.best_estimator_)\n",
    "mean_absolute_error(search.predict(X_test), y_test)"
   ]
  },
  {
   "cell_type": "code",
   "execution_count": 144,
   "metadata": {},
   "outputs": [
    {
     "name": "stdout",
     "output_type": "stream",
     "text": [
      "Pipeline(steps=[('vect',\n",
      "                 TfidfVectorizer(max_df=0.4, ngram_range=(1, 3),\n",
      "                                 stop_words='english')),\n",
      "                ('regr', Ridge(alpha=0.1))])\n",
      "Wall time: 1min 35s\n"
     ]
    },
    {
     "data": {
      "text/plain": [
       "533.7767014905328"
      ]
     },
     "execution_count": 144,
     "metadata": {},
     "output_type": "execute_result"
    }
   ],
   "source": [
    "%%time\n",
    "\n",
    "vect = TfidfVectorizer(stop_words='english')\n",
    "regr = Ridge()\n",
    "\n",
    "pipe = Pipeline([('vect', vect), ('regr', regr)])\n",
    "param_grid = {\n",
    "    'vect__max_df': np.linspace(0.1, 1, 10),\n",
    "    'vect__min_df': np.linspace(0.1, 1, 10).tolist() + [1],\n",
    "    'vect__ngram_range': [(1, 1), (1, 2), (1, 3), (2, 2)],\n",
    "    'regr__alpha': [0.01, 0.1, 1, 10]\n",
    "}\n",
    "search = GridSearchCV(pipe, param_grid, n_jobs=-1)\n",
    "search.fit(X_train, y_train)\n",
    "print(search.best_estimator_)\n",
    "mean_absolute_error(search.predict(X_test), y_test)"
   ]
  },
  {
   "cell_type": "markdown",
   "metadata": {},
   "source": [
    "Минимальная встречаемость слов в `TfidfVectorizer` второй раз устанавливается в 1, поэтому перестаем ее подбирать. Это объяснимо: редкие слова являются хорошими признаками."
   ]
  },
  {
   "cell_type": "code",
   "execution_count": 163,
   "metadata": {},
   "outputs": [
    {
     "name": "stdout",
     "output_type": "stream",
     "text": [
      "Pipeline(steps=[('vect', TfidfVectorizer(max_df=0.6, stop_words='english')),\n",
      "                ('regr', Lasso(alpha=1))])\n",
      "Wall time: 7min 41s\n"
     ]
    },
    {
     "data": {
      "text/plain": [
       "692.6836390368527"
      ]
     },
     "execution_count": 163,
     "metadata": {},
     "output_type": "execute_result"
    }
   ],
   "source": [
    "%%time\n",
    "\n",
    "vect = TfidfVectorizer(stop_words='english')\n",
    "regr = Lasso()\n",
    "\n",
    "pipe = Pipeline([('vect', vect), ('regr', regr)])\n",
    "param_grid = {\n",
    "    'vect__max_df': np.linspace(0.1, 1, 10),\n",
    "    'vect__ngram_range': [(1, 1), (1, 2), (1, 3), (2, 2)],\n",
    "    'regr__alpha': [0.01, 0.1, 1, 10]\n",
    "}\n",
    "search = GridSearchCV(pipe, param_grid, n_jobs=-1)\n",
    "search.fit(X_train, y_train)\n",
    "print(search.best_estimator_)\n",
    "mean_absolute_error(search.predict(X_test), y_test)"
   ]
  },
  {
   "cell_type": "code",
   "execution_count": 148,
   "metadata": {},
   "outputs": [
    {
     "name": "stdout",
     "output_type": "stream",
     "text": [
      "Pipeline(steps=[('vect', TfidfVectorizer(max_df=0.6, stop_words='english')),\n",
      "                ('regr', RandomForestRegressor(n_estimators=1000))])\n",
      "Wall time: 1h 7min 13s\n"
     ]
    },
    {
     "data": {
      "text/plain": [
       "586.671139866605"
      ]
     },
     "execution_count": 148,
     "metadata": {},
     "output_type": "execute_result"
    }
   ],
   "source": [
    "%%time\n",
    "\n",
    "vect = TfidfVectorizer(stop_words='english')\n",
    "regr = RandomForestRegressor(n_estimators=1000)\n",
    "\n",
    "pipe = Pipeline([('vect', vect), ('regr', regr)])\n",
    "param_grid = {\n",
    "    'vect__max_df': np.linspace(0.1, 1, 10),\n",
    "    'vect__ngram_range': [(1, 1), (1, 2), (1, 3), (2, 2)],\n",
    "#     'regr__alpha': [0.01, 0.1, 1, 10]\n",
    "}\n",
    "search = GridSearchCV(pipe, param_grid, n_jobs=-1)\n",
    "search.fit(X_train, y_train)\n",
    "print(search.best_estimator_)\n",
    "mean_absolute_error(search.predict(X_test), y_test)"
   ]
  },
  {
   "cell_type": "markdown",
   "metadata": {},
   "source": [
    "Лучше всех справилась линейная регрессия с L2-регуляризацией. Попробуем добавить в признаки простые количественные свойства описаний обучим модель с параметрами, найденными из поиска по сетке, и посмотрим, улучшилось ли качество.\n",
    "\n",
    "Качество незначительно улучшилось."
   ]
  },
  {
   "cell_type": "code",
   "execution_count": 221,
   "metadata": {},
   "outputs": [
    {
     "name": "stdout",
     "output_type": "stream",
     "text": [
      "Wall time: 242 ms\n"
     ]
    },
    {
     "data": {
      "text/plain": [
       "521.2686854878192"
      ]
     },
     "execution_count": 221,
     "metadata": {},
     "output_type": "execute_result"
    }
   ],
   "source": [
    "%%time\n",
    "\n",
    "train, test = train_test_split(df, random_state=42)\n",
    "vect = TfidfVectorizer(\n",
    "    max_df=0.4,\n",
    "    ngram_range=(1, 3),\n",
    "    stop_words='english'\n",
    "    )\n",
    "X_train = vect.fit_transform(train['product_description'])\n",
    "X_train = hstack([X_train, train[['n_symbols_descr', 'n_words_descr', 'mean_word_length_descr']].to_numpy()])\n",
    "X_test = vect.transform(test['product_description'])\n",
    "X_test = hstack([X_test, test[['n_symbols_descr', 'n_words_descr', 'mean_word_length_descr']].to_numpy()])\n",
    "y_train = train['price']\n",
    "y_test = test['price']\n",
    "model = Ridge(alpha=0.1)\n",
    "model.fit(X_train, y_train)\n",
    "mean_absolute_error(model.predict(X_test), y_test)"
   ]
  },
  {
   "cell_type": "markdown",
   "metadata": {},
   "source": [
    "Нарисуем диаграмму рассеяния предсказний модели и правильных значений.\n",
    "\n",
    "Модель хорошо предсказывает цены до примерно 3500, после чего начинает ошибаться. Это наталкивает на идею для улучшения: обучить две модели, одну для ценового диапазона до 3500 и другую для диапазона выше. Выбор между ними может осуществлять, например, решающее дерево."
   ]
  },
  {
   "cell_type": "code",
   "execution_count": 222,
   "metadata": {},
   "outputs": [
    {
     "data": {
      "image/png": "[encoded data removed]",
      "text/plain": [
       "<Figure size 432x288 with 1 Axes>"
      ]
     },
     "metadata": {
      "needs_background": "light"
     },
     "output_type": "display_data"
    }
   ],
   "source": [
    "plt.scatter(y_test, model.predict(X_test))\n",
    "x = np.linspace(0, 8000)\n",
    "plt.plot(x, x, color='red', ls='--')\n",
    "plt.ylabel(\"Model predictions\")\n",
    "plt.xlabel(\"Truths\");"
   ]
  },
  {
   "cell_type": "markdown",
   "metadata": {},
   "source": [
    "### Задание 2"
   ]
  },
  {
   "cell_type": "code",
   "execution_count": 83,
   "metadata": {},
   "outputs": [
    {
     "data": {
      "text/html": [
       "<div>\n",
       "<style scoped>\n",
       "    .dataframe tbody tr th:only-of-type {\n",
       "        vertical-align: middle;\n",
       "    }\n",
       "\n",
       "    .dataframe tbody tr th {\n",
       "        vertical-align: top;\n",
       "    }\n",
       "\n",
       "    .dataframe thead th {\n",
       "        text-align: right;\n",
       "    }\n",
       "</style>\n",
       "<table border=\"1\" class=\"dataframe\">\n",
       "  <thead>\n",
       "    <tr style=\"text-align: right;\">\n",
       "      <th></th>\n",
       "      <th>review</th>\n",
       "      <th>rating</th>\n",
       "      <th>is_caps</th>\n",
       "      <th>has_caps</th>\n",
       "      <th>has_exclamation</th>\n",
       "      <th>n_symbols</th>\n",
       "      <th>n_letters</th>\n",
       "      <th>n_words</th>\n",
       "      <th>mean_word_length</th>\n",
       "      <th>n_upper</th>\n",
       "    </tr>\n",
       "  </thead>\n",
       "  <tbody>\n",
       "    <tr>\n",
       "      <th>0</th>\n",
       "      <td>Not happy with product</td>\n",
       "      <td>1</td>\n",
       "      <td>0</td>\n",
       "      <td>0</td>\n",
       "      <td>0</td>\n",
       "      <td>22</td>\n",
       "      <td>19</td>\n",
       "      <td>4</td>\n",
       "      <td>4.750000</td>\n",
       "      <td>1</td>\n",
       "    </tr>\n",
       "    <tr>\n",
       "      <th>1</th>\n",
       "      <td>It's not as expected.</td>\n",
       "      <td>1</td>\n",
       "      <td>0</td>\n",
       "      <td>0</td>\n",
       "      <td>0</td>\n",
       "      <td>21</td>\n",
       "      <td>18</td>\n",
       "      <td>4</td>\n",
       "      <td>4.500000</td>\n",
       "      <td>1</td>\n",
       "    </tr>\n",
       "    <tr>\n",
       "      <th>2</th>\n",
       "      <td>AVERAGE PRODUCT</td>\n",
       "      <td>3</td>\n",
       "      <td>1</td>\n",
       "      <td>1</td>\n",
       "      <td>0</td>\n",
       "      <td>15</td>\n",
       "      <td>14</td>\n",
       "      <td>2</td>\n",
       "      <td>7.000000</td>\n",
       "      <td>14</td>\n",
       "    </tr>\n",
       "    <tr>\n",
       "      <th>3</th>\n",
       "      <td>Pic more beautiful</td>\n",
       "      <td>3</td>\n",
       "      <td>0</td>\n",
       "      <td>0</td>\n",
       "      <td>0</td>\n",
       "      <td>18</td>\n",
       "      <td>16</td>\n",
       "      <td>3</td>\n",
       "      <td>5.333333</td>\n",
       "      <td>1</td>\n",
       "    </tr>\n",
       "    <tr>\n",
       "      <th>4</th>\n",
       "      <td>Got damage product. But quality is average for...</td>\n",
       "      <td>3</td>\n",
       "      <td>0</td>\n",
       "      <td>0</td>\n",
       "      <td>0</td>\n",
       "      <td>51</td>\n",
       "      <td>43</td>\n",
       "      <td>9</td>\n",
       "      <td>4.777778</td>\n",
       "      <td>2</td>\n",
       "    </tr>\n",
       "    <tr>\n",
       "      <th>...</th>\n",
       "      <td>...</td>\n",
       "      <td>...</td>\n",
       "      <td>...</td>\n",
       "      <td>...</td>\n",
       "      <td>...</td>\n",
       "      <td>...</td>\n",
       "      <td>...</td>\n",
       "      <td>...</td>\n",
       "      <td>...</td>\n",
       "      <td>...</td>\n",
       "    </tr>\n",
       "    <tr>\n",
       "      <th>9953</th>\n",
       "      <td>Go for it!</td>\n",
       "      <td>5</td>\n",
       "      <td>0</td>\n",
       "      <td>0</td>\n",
       "      <td>1</td>\n",
       "      <td>10</td>\n",
       "      <td>8</td>\n",
       "      <td>3</td>\n",
       "      <td>2.666667</td>\n",
       "      <td>1</td>\n",
       "    </tr>\n",
       "    <tr>\n",
       "      <th>9954</th>\n",
       "      <td>Excellent product</td>\n",
       "      <td>5</td>\n",
       "      <td>0</td>\n",
       "      <td>0</td>\n",
       "      <td>0</td>\n",
       "      <td>17</td>\n",
       "      <td>16</td>\n",
       "      <td>2</td>\n",
       "      <td>8.000000</td>\n",
       "      <td>1</td>\n",
       "    </tr>\n",
       "    <tr>\n",
       "      <th>9955</th>\n",
       "      <td>Nice shoe</td>\n",
       "      <td>5</td>\n",
       "      <td>0</td>\n",
       "      <td>0</td>\n",
       "      <td>0</td>\n",
       "      <td>9</td>\n",
       "      <td>8</td>\n",
       "      <td>2</td>\n",
       "      <td>4.000000</td>\n",
       "      <td>1</td>\n",
       "    </tr>\n",
       "    <tr>\n",
       "      <th>9956</th>\n",
       "      <td>Nice</td>\n",
       "      <td>5</td>\n",
       "      <td>0</td>\n",
       "      <td>0</td>\n",
       "      <td>0</td>\n",
       "      <td>4</td>\n",
       "      <td>4</td>\n",
       "      <td>1</td>\n",
       "      <td>4.000000</td>\n",
       "      <td>1</td>\n",
       "    </tr>\n",
       "    <tr>\n",
       "      <th>9957</th>\n",
       "      <td>Asics shoes are the best</td>\n",
       "      <td>5</td>\n",
       "      <td>0</td>\n",
       "      <td>0</td>\n",
       "      <td>0</td>\n",
       "      <td>24</td>\n",
       "      <td>20</td>\n",
       "      <td>5</td>\n",
       "      <td>4.000000</td>\n",
       "      <td>1</td>\n",
       "    </tr>\n",
       "  </tbody>\n",
       "</table>\n",
       "<p>9958 rows × 10 columns</p>\n",
       "</div>"
      ],
      "text/plain": [
       "                                                 review  rating  is_caps  \\\n",
       "0                                Not happy with product       1        0   \n",
       "1                                 It's not as expected.       1        0   \n",
       "2                                       AVERAGE PRODUCT       3        1   \n",
       "3                                    Pic more beautiful       3        0   \n",
       "4     Got damage product. But quality is average for...       3        0   \n",
       "...                                                 ...     ...      ...   \n",
       "9953                                         Go for it!       5        0   \n",
       "9954                                  Excellent product       5        0   \n",
       "9955                                          Nice shoe       5        0   \n",
       "9956                                               Nice       5        0   \n",
       "9957                           Asics shoes are the best       5        0   \n",
       "\n",
       "      has_caps  has_exclamation  n_symbols  n_letters  n_words  \\\n",
       "0            0                0         22         19        4   \n",
       "1            0                0         21         18        4   \n",
       "2            1                0         15         14        2   \n",
       "3            0                0         18         16        3   \n",
       "4            0                0         51         43        9   \n",
       "...        ...              ...        ...        ...      ...   \n",
       "9953         0                1         10          8        3   \n",
       "9954         0                0         17         16        2   \n",
       "9955         0                0          9          8        2   \n",
       "9956         0                0          4          4        1   \n",
       "9957         0                0         24         20        5   \n",
       "\n",
       "      mean_word_length  n_upper  \n",
       "0             4.750000        1  \n",
       "1             4.500000        1  \n",
       "2             7.000000       14  \n",
       "3             5.333333        1  \n",
       "4             4.777778        2  \n",
       "...                ...      ...  \n",
       "9953          2.666667        1  \n",
       "9954          8.000000        1  \n",
       "9955          4.000000        1  \n",
       "9956          4.000000        1  \n",
       "9957          4.000000        1  \n",
       "\n",
       "[9958 rows x 10 columns]"
      ]
     },
     "execution_count": 83,
     "metadata": {},
     "output_type": "execute_result"
    }
   ],
   "source": [
    "reviews = []\n",
    "for i in df['reviews']:\n",
    "    reviews.extend(i.split('|| '))\n",
    "ratings = []\n",
    "for i in df['reviews_rating']:\n",
    "    ratings.extend(i.split('|| '))\n",
    "df2 = pd.DataFrame()\n",
    "df2['review'] = reviews\n",
    "df2['rating'] = ratings\n",
    "df2['rating'] = df2['rating'].apply(lambda x: int(x[0]))\n",
    "df2['is_caps'] = df2['review'].apply(lambda x: x.isupper()).astype(int)\n",
    "df2['has_caps'] = df2['review'].apply(lambda x: bool([w for w in x.split(' ') if w.isupper()])).astype(int)\n",
    "df2['has_exclamation'] = df2['review'].apply(lambda x: '!' in x).astype(int)\n",
    "df2['n_symbols'] = df2['review'].apply(len)\n",
    "df2['n_letters'] = df2['review'].apply(lambda x: len(x.replace(' ', '')))\n",
    "df2['n_words'] = df2['review'].apply(lambda x: len(x.split(' ')))\n",
    "df2['mean_word_length'] = df2['n_letters'] / df2['n_words']\n",
    "df2['n_upper'] = df2['review'].apply(lambda x: len([a for a in x if a.isupper()]))\n",
    "df2"
   ]
  },
  {
   "cell_type": "markdown",
   "metadata": {},
   "source": [
    "Посмотрим на распределение рейтингов.\n",
    "\n",
    "Рейтинги несбалансированы."
   ]
  },
  {
   "cell_type": "code",
   "execution_count": 261,
   "metadata": {},
   "outputs": [
    {
     "data": {
      "text/plain": [
       "<AxesSubplot:>"
      ]
     },
     "execution_count": 261,
     "metadata": {},
     "output_type": "execute_result"
    },
    {
     "data": {
      "image/png": "[encoded data removed]",
      "text/plain": [
       "<Figure size 432x288 with 1 Axes>"
      ]
     },
     "metadata": {
      "needs_background": "light"
     },
     "output_type": "display_data"
    }
   ],
   "source": [
    "df2['rating'].hist()"
   ]
  },
  {
   "cell_type": "markdown",
   "metadata": {},
   "source": [
    "Посмтотрим на зависимость рейтинга от примитивных свойств отзыва:"
   ]
  },
  {
   "cell_type": "code",
   "execution_count": 262,
   "metadata": {},
   "outputs": [
    {
     "data": {
      "image/png": "[encoded data removed]",
      "text/plain": [
       "<Figure size 360x360 with 1 Axes>"
      ]
     },
     "metadata": {
      "needs_background": "light"
     },
     "output_type": "display_data"
    },
    {
     "data": {
      "image/png": "[encoded data removed]",
      "text/plain": [
       "<Figure size 360x360 with 1 Axes>"
      ]
     },
     "metadata": {
      "needs_background": "light"
     },
     "output_type": "display_data"
    },
    {
     "data": {
      "image/png": "[encoded data removed]",
      "text/plain": [
       "<Figure size 360x360 with 1 Axes>"
      ]
     },
     "metadata": {
      "needs_background": "light"
     },
     "output_type": "display_data"
    },
    {
     "data": {
      "image/png": "[encoded data removed]",
      "text/plain": [
       "<Figure size 360x360 with 1 Axes>"
      ]
     },
     "metadata": {
      "needs_background": "light"
     },
     "output_type": "display_data"
    }
   ],
   "source": [
    "for i in ['n_symbols', 'n_words', 'mean_word_length', 'n_upper']:\n",
    "    sns.catplot(x='rating', y=i, data=df2, kind='box')\n",
    "    plt.show()"
   ]
  },
  {
   "cell_type": "code",
   "execution_count": 28,
   "metadata": {},
   "outputs": [
    {
     "data": {
      "image/png": "[encoded data removed]",
      "text/plain": [
       "<Figure size 432x288 with 1 Axes>"
      ]
     },
     "metadata": {
      "needs_background": "light"
     },
     "output_type": "display_data"
    },
    {
     "data": {
      "image/png": "[encoded data removed]",
      "text/plain": [
       "<Figure size 432x288 with 1 Axes>"
      ]
     },
     "metadata": {
      "needs_background": "light"
     },
     "output_type": "display_data"
    },
    {
     "data": {
      "image/png": "[encoded data removed]",
      "text/plain": [
       "<Figure size 432x288 with 1 Axes>"
      ]
     },
     "metadata": {
      "needs_background": "light"
     },
     "output_type": "display_data"
    }
   ],
   "source": [
    "for i in ['has_caps', 'is_caps', 'has_exclamation']:\n",
    "    df2.groupby('rating')[i].value_counts(normalize=True).plot.bar()\n",
    "    plt.show()"
   ]
  },
  {
   "cell_type": "markdown",
   "metadata": {},
   "source": [
    "Сделаем препроцессинг: лемматизируем слова, но не будем убирать пунктуацию, так как она может выражать эмоции."
   ]
  },
  {
   "cell_type": "code",
   "execution_count": 29,
   "metadata": {},
   "outputs": [],
   "source": [
    "def preprocess_text(text):\n",
    "    doc = nlp(text)\n",
    "    lemmata = [token.lemma_ for token in doc]\n",
    "\n",
    "    return ' '.join(lemmata)"
   ]
  },
  {
   "cell_type": "code",
   "execution_count": 84,
   "metadata": {},
   "outputs": [
    {
     "name": "stdout",
     "output_type": "stream",
     "text": [
      "Wall time: 14.9 s\n"
     ]
    },
    {
     "data": {
      "text/html": [
       "<div>\n",
       "<style scoped>\n",
       "    .dataframe tbody tr th:only-of-type {\n",
       "        vertical-align: middle;\n",
       "    }\n",
       "\n",
       "    .dataframe tbody tr th {\n",
       "        vertical-align: top;\n",
       "    }\n",
       "\n",
       "    .dataframe thead th {\n",
       "        text-align: right;\n",
       "    }\n",
       "</style>\n",
       "<table border=\"1\" class=\"dataframe\">\n",
       "  <thead>\n",
       "    <tr style=\"text-align: right;\">\n",
       "      <th></th>\n",
       "      <th>review</th>\n",
       "      <th>rating</th>\n",
       "      <th>is_caps</th>\n",
       "      <th>has_caps</th>\n",
       "      <th>has_exclamation</th>\n",
       "      <th>n_symbols</th>\n",
       "      <th>n_letters</th>\n",
       "      <th>n_words</th>\n",
       "      <th>mean_word_length</th>\n",
       "      <th>n_upper</th>\n",
       "    </tr>\n",
       "  </thead>\n",
       "  <tbody>\n",
       "    <tr>\n",
       "      <th>0</th>\n",
       "      <td>not happy with product</td>\n",
       "      <td>1</td>\n",
       "      <td>0</td>\n",
       "      <td>0</td>\n",
       "      <td>0</td>\n",
       "      <td>22</td>\n",
       "      <td>19</td>\n",
       "      <td>4</td>\n",
       "      <td>4.750000</td>\n",
       "      <td>1</td>\n",
       "    </tr>\n",
       "    <tr>\n",
       "      <th>1</th>\n",
       "      <td>it be not as expect .</td>\n",
       "      <td>1</td>\n",
       "      <td>0</td>\n",
       "      <td>0</td>\n",
       "      <td>0</td>\n",
       "      <td>21</td>\n",
       "      <td>18</td>\n",
       "      <td>4</td>\n",
       "      <td>4.500000</td>\n",
       "      <td>1</td>\n",
       "    </tr>\n",
       "    <tr>\n",
       "      <th>2</th>\n",
       "      <td>AVERAGE PRODUCT</td>\n",
       "      <td>3</td>\n",
       "      <td>1</td>\n",
       "      <td>1</td>\n",
       "      <td>0</td>\n",
       "      <td>15</td>\n",
       "      <td>14</td>\n",
       "      <td>2</td>\n",
       "      <td>7.000000</td>\n",
       "      <td>14</td>\n",
       "    </tr>\n",
       "    <tr>\n",
       "      <th>3</th>\n",
       "      <td>pic more beautiful</td>\n",
       "      <td>3</td>\n",
       "      <td>0</td>\n",
       "      <td>0</td>\n",
       "      <td>0</td>\n",
       "      <td>18</td>\n",
       "      <td>16</td>\n",
       "      <td>3</td>\n",
       "      <td>5.333333</td>\n",
       "      <td>1</td>\n",
       "    </tr>\n",
       "    <tr>\n",
       "      <th>4</th>\n",
       "      <td>got damage product . but quality be average fo...</td>\n",
       "      <td>3</td>\n",
       "      <td>0</td>\n",
       "      <td>0</td>\n",
       "      <td>0</td>\n",
       "      <td>51</td>\n",
       "      <td>43</td>\n",
       "      <td>9</td>\n",
       "      <td>4.777778</td>\n",
       "      <td>2</td>\n",
       "    </tr>\n",
       "    <tr>\n",
       "      <th>...</th>\n",
       "      <td>...</td>\n",
       "      <td>...</td>\n",
       "      <td>...</td>\n",
       "      <td>...</td>\n",
       "      <td>...</td>\n",
       "      <td>...</td>\n",
       "      <td>...</td>\n",
       "      <td>...</td>\n",
       "      <td>...</td>\n",
       "      <td>...</td>\n",
       "    </tr>\n",
       "    <tr>\n",
       "      <th>9953</th>\n",
       "      <td>go for it !</td>\n",
       "      <td>5</td>\n",
       "      <td>0</td>\n",
       "      <td>0</td>\n",
       "      <td>1</td>\n",
       "      <td>10</td>\n",
       "      <td>8</td>\n",
       "      <td>3</td>\n",
       "      <td>2.666667</td>\n",
       "      <td>1</td>\n",
       "    </tr>\n",
       "    <tr>\n",
       "      <th>9954</th>\n",
       "      <td>excellent product</td>\n",
       "      <td>5</td>\n",
       "      <td>0</td>\n",
       "      <td>0</td>\n",
       "      <td>0</td>\n",
       "      <td>17</td>\n",
       "      <td>16</td>\n",
       "      <td>2</td>\n",
       "      <td>8.000000</td>\n",
       "      <td>1</td>\n",
       "    </tr>\n",
       "    <tr>\n",
       "      <th>9955</th>\n",
       "      <td>nice shoe</td>\n",
       "      <td>5</td>\n",
       "      <td>0</td>\n",
       "      <td>0</td>\n",
       "      <td>0</td>\n",
       "      <td>9</td>\n",
       "      <td>8</td>\n",
       "      <td>2</td>\n",
       "      <td>4.000000</td>\n",
       "      <td>1</td>\n",
       "    </tr>\n",
       "    <tr>\n",
       "      <th>9956</th>\n",
       "      <td>nice</td>\n",
       "      <td>5</td>\n",
       "      <td>0</td>\n",
       "      <td>0</td>\n",
       "      <td>0</td>\n",
       "      <td>4</td>\n",
       "      <td>4</td>\n",
       "      <td>1</td>\n",
       "      <td>4.000000</td>\n",
       "      <td>1</td>\n",
       "    </tr>\n",
       "    <tr>\n",
       "      <th>9957</th>\n",
       "      <td>asics shoe be the good</td>\n",
       "      <td>5</td>\n",
       "      <td>0</td>\n",
       "      <td>0</td>\n",
       "      <td>0</td>\n",
       "      <td>24</td>\n",
       "      <td>20</td>\n",
       "      <td>5</td>\n",
       "      <td>4.000000</td>\n",
       "      <td>1</td>\n",
       "    </tr>\n",
       "  </tbody>\n",
       "</table>\n",
       "<p>9958 rows × 10 columns</p>\n",
       "</div>"
      ],
      "text/plain": [
       "                                                 review  rating  is_caps  \\\n",
       "0                                not happy with product       1        0   \n",
       "1                                 it be not as expect .       1        0   \n",
       "2                                       AVERAGE PRODUCT       3        1   \n",
       "3                                    pic more beautiful       3        0   \n",
       "4     got damage product . but quality be average fo...       3        0   \n",
       "...                                                 ...     ...      ...   \n",
       "9953                                        go for it !       5        0   \n",
       "9954                                  excellent product       5        0   \n",
       "9955                                          nice shoe       5        0   \n",
       "9956                                               nice       5        0   \n",
       "9957                             asics shoe be the good       5        0   \n",
       "\n",
       "      has_caps  has_exclamation  n_symbols  n_letters  n_words  \\\n",
       "0            0                0         22         19        4   \n",
       "1            0                0         21         18        4   \n",
       "2            1                0         15         14        2   \n",
       "3            0                0         18         16        3   \n",
       "4            0                0         51         43        9   \n",
       "...        ...              ...        ...        ...      ...   \n",
       "9953         0                1         10          8        3   \n",
       "9954         0                0         17         16        2   \n",
       "9955         0                0          9          8        2   \n",
       "9956         0                0          4          4        1   \n",
       "9957         0                0         24         20        5   \n",
       "\n",
       "      mean_word_length  n_upper  \n",
       "0             4.750000        1  \n",
       "1             4.500000        1  \n",
       "2             7.000000       14  \n",
       "3             5.333333        1  \n",
       "4             4.777778        2  \n",
       "...                ...      ...  \n",
       "9953          2.666667        1  \n",
       "9954          8.000000        1  \n",
       "9955          4.000000        1  \n",
       "9956          4.000000        1  \n",
       "9957          4.000000        1  \n",
       "\n",
       "[9958 rows x 10 columns]"
      ]
     },
     "execution_count": 84,
     "metadata": {},
     "output_type": "execute_result"
    }
   ],
   "source": [
    "%%time\n",
    "\n",
    "df2['review'] = df2['review'].apply(preprocess_text)\n",
    "df2"
   ]
  },
  {
   "cell_type": "code",
   "execution_count": 35,
   "metadata": {},
   "outputs": [],
   "source": [
    "train, test = train_test_split(df2, random_state=42)\n",
    "X_train = train['review']\n",
    "y_train = train['rating']\n",
    "X_test = test['review']\n",
    "y_test = test['rating']"
   ]
  },
  {
   "cell_type": "code",
   "execution_count": 11,
   "metadata": {},
   "outputs": [
    {
     "name": "stdout",
     "output_type": "stream",
     "text": [
      "Pipeline(steps=[('vect', TfidfVectorizer(max_df=0.2, ngram_range=(1, 3))),\n",
      "                ('clf', LogisticRegression(C=10, max_iter=1000, n_jobs=-1))])\n",
      "              precision    recall  f1-score   support\n",
      "\n",
      "           1       0.76      0.77      0.77       422\n",
      "           2       0.32      0.64      0.43        66\n",
      "           3       0.44      0.51      0.47       166\n",
      "           4       0.24      0.52      0.33       214\n",
      "           5       0.92      0.73      0.82      1622\n",
      "\n",
      "    accuracy                           0.70      2490\n",
      "   macro avg       0.54      0.63      0.56      2490\n",
      "weighted avg       0.79      0.70      0.73      2490\n",
      "\n",
      "Wall time: 4min 34s\n"
     ]
    }
   ],
   "source": [
    "%%time\n",
    "\n",
    "vect = TfidfVectorizer()\n",
    "clf = LogisticRegression(max_iter=1000, n_jobs=-1)\n",
    "\n",
    "pipe = Pipeline([('vect', vect), ('clf', clf)])\n",
    "param_grid = {\n",
    "    'vect__stop_words': ['english', None],\n",
    "    'vect__max_df': np.linspace(0.1, 1, 10),\n",
    "    'vect__ngram_range': [(1, 1), (1, 2), (1, 3)],\n",
    "    'clf__C': [0.01, 0.1, 1, 10],\n",
    "}\n",
    "search = GridSearchCV(pipe, param_grid, n_jobs=-1)\n",
    "search.fit(X_train, y_train)\n",
    "print(search.best_estimator_)\n",
    "print(classification_report(search.predict(X_test), y_test))"
   ]
  },
  {
   "cell_type": "code",
   "execution_count": 12,
   "metadata": {},
   "outputs": [
    {
     "name": "stdout",
     "output_type": "stream",
     "text": [
      "Pipeline(steps=[('vect', TfidfVectorizer(max_df=0.2, ngram_range=(1, 3))),\n",
      "                ('clf', SVC(C=1))])\n",
      "              precision    recall  f1-score   support\n",
      "\n",
      "           1       0.76      0.75      0.76       433\n",
      "           2       0.25      0.74      0.37        43\n",
      "           3       0.40      0.56      0.47       138\n",
      "           4       0.16      0.63      0.26       118\n",
      "           5       0.97      0.71      0.82      1758\n",
      "\n",
      "    accuracy                           0.70      2490\n",
      "   macro avg       0.51      0.68      0.53      2490\n",
      "weighted avg       0.85      0.70      0.75      2490\n",
      "\n",
      "Wall time: 5min 19s\n"
     ]
    }
   ],
   "source": [
    "%%time\n",
    "\n",
    "vect = TfidfVectorizer()\n",
    "clf = SVC()\n",
    "\n",
    "pipe = Pipeline([('vect', vect), ('clf', clf)])\n",
    "param_grid = {\n",
    "    'vect__stop_words': ['english', None],\n",
    "    'vect__max_df': np.linspace(0.1, 1, 10),\n",
    "    'vect__ngram_range': [(1, 1), (1, 2), (1, 3)],\n",
    "    'clf__C': [0.01, 0.1, 1, 10],\n",
    "}\n",
    "search = GridSearchCV(pipe, param_grid, n_jobs=-1)\n",
    "search.fit(X_train, y_train)\n",
    "print(search.best_estimator_)\n",
    "print(classification_report(search.predict(X_test), y_test))"
   ]
  },
  {
   "cell_type": "code",
   "execution_count": 13,
   "metadata": {},
   "outputs": [
    {
     "name": "stdout",
     "output_type": "stream",
     "text": [
      "Pipeline(steps=[('vect', TfidfVectorizer(max_df=0.2)),\n",
      "                ('clf', RandomForestClassifier(n_estimators=1000))])\n",
      "              precision    recall  f1-score   support\n",
      "\n",
      "           1       0.75      0.77      0.76       414\n",
      "           2       0.29      0.60      0.39        63\n",
      "           3       0.41      0.52      0.46       154\n",
      "           4       0.22      0.61      0.32       165\n",
      "           5       0.95      0.72      0.82      1694\n",
      "\n",
      "    accuracy                           0.70      2490\n",
      "   macro avg       0.52      0.64      0.55      2490\n",
      "weighted avg       0.82      0.70      0.74      2490\n",
      "\n",
      "Wall time: 34min 41s\n"
     ]
    }
   ],
   "source": [
    "%%time\n",
    "\n",
    "vect = TfidfVectorizer()\n",
    "clf = RandomForestClassifier(n_estimators=1000)\n",
    "\n",
    "pipe = Pipeline([('vect', vect), ('clf', clf)])\n",
    "param_grid = {\n",
    "    'vect__stop_words': ['english', None],\n",
    "    'vect__max_df': np.linspace(0.1, 1, 10),\n",
    "    'vect__ngram_range': [(1, 1), (1, 2), (1, 3)],\n",
    "}\n",
    "search = GridSearchCV(pipe, param_grid, n_jobs=-1)\n",
    "search.fit(X_train, y_train)\n",
    "print(search.best_estimator_)\n",
    "print(classification_report(search.predict(X_test), y_test))"
   ]
  },
  {
   "cell_type": "markdown",
   "metadata": {},
   "source": [
    "Логистическая регрессия с L2-регуляризацией, SVM и случайный лес показали одинаковую accuracy. Так как логистическая регрессия обучается быстрее, попробуем улучшить качество ее предсказаний с помощью дополнительных признаков."
   ]
  },
  {
   "cell_type": "code",
   "execution_count": 78,
   "metadata": {},
   "outputs": [
    {
     "name": "stdout",
     "output_type": "stream",
     "text": [
      "              precision    recall  f1-score   support\n",
      "\n",
      "           1       0.77      0.76      0.77       427\n",
      "           2       0.32      0.66      0.43        64\n",
      "           3       0.44      0.51      0.47       166\n",
      "           4       0.25      0.53      0.34       215\n",
      "           5       0.92      0.73      0.82      1618\n",
      "\n",
      "    accuracy                           0.70      2490\n",
      "   macro avg       0.54      0.64      0.56      2490\n",
      "weighted avg       0.79      0.70      0.73      2490\n",
      "\n",
      "Wall time: 7.32 s\n"
     ]
    }
   ],
   "source": [
    "%%time\n",
    "\n",
    "vect = TfidfVectorizer(\n",
    "    max_df=0.2,\n",
    "    ngram_range=(1, 3),\n",
    ")\n",
    "X_train = vect.fit_transform(train['review'])\n",
    "X_train = hstack([X_train, train[['is_caps', 'has_caps', 'has_exclamation', 'n_upper']].to_numpy()])\n",
    "X_test = vect.transform(test['review'])\n",
    "X_test = hstack([X_test, test[['is_caps', 'has_caps', 'has_exclamation', 'n_upper']].to_numpy()])\n",
    "y_train = train['rating']\n",
    "y_test = test['rating']\n",
    "model = LogisticRegression(\n",
    "    C=10,\n",
    "    max_iter=1000,\n",
    "    n_jobs=-1\n",
    ")\n",
    "model.fit(X_train, y_train)\n",
    "print(classification_report(model.predict(X_test), y_test))"
   ]
  },
  {
   "cell_type": "markdown",
   "metadata": {},
   "source": [
    "Качество осталось прежним.\n",
    "\n",
    "Посмотрим на confusion matrix, построенную по предсказниям классификатора. Видно, что модель путает отзывы на 4 и 5: видимо, настроения пользователей, пишущих эти отзывы, похожи. Кроме того, остальные классы также путаются с двумя самыми частотными -- 1 и 5. Для улучшения общего качества нужно обратить больше внимания на малочисленные классы."
   ]
  },
  {
   "cell_type": "code",
   "execution_count": 81,
   "metadata": {},
   "outputs": [
    {
     "data": {
      "image/png": "[encoded data removed]",
      "text/plain": [
       "<Figure size 432x288 with 2 Axes>"
      ]
     },
     "metadata": {
      "needs_background": "light"
     },
     "output_type": "display_data"
    }
   ],
   "source": [
    "disp = ConfusionMatrixDisplay.from_estimator(model, X_test, y_test, normalize='true')\n",
    "plt.show()"
   ]
  }
 ],
 "metadata": {
  "kernelspec": {
   "display_name": "Python 3",
   "language": "python",
   "name": "python3"
  },
  "language_info": {
   "codemirror_mode": {
    "name": "ipython",
    "version": 3
   },
   "file_extension": ".py",
   "mimetype": "text/x-python",
   "name": "python",
   "nbconvert_exporter": "python",
   "pygments_lexer": "ipython3",
   "version": "3.8.6"
  }
 },
 "nbformat": 4,
 "nbformat_minor": 4
}
